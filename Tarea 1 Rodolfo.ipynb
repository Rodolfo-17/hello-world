{
 "cells": [
  {
   "cell_type": "markdown",
   "id": "aa84a1d9",
   "metadata": {},
   "source": [
    "# T01 Markdown\n",
    "\n",
    "## 1.- Presentación personal \n",
    "\n"
   ]
  },
  {
   "cell_type": "markdown",
   "id": "b4ce7e3f",
   "metadata": {},
   "source": [
    "Hola, mi nombre es Rodolfo Magdaleno, tengo 20 años de edad y nací en Guadalajara. Actualmente estudio la carrera de Ingeniería Civil en el ITESO. Me gustan mucho los deportes, la historia y la ciencia. Uno de mis objetivos es hacer una maestría en Europa. Por lo general mi vida me gusta. \n"
   ]
  },
  {
   "cell_type": "markdown",
   "id": "16cd6deb",
   "metadata": {},
   "source": [
    "**¡Estoy feliz de estar aqui!**"
   ]
  },
  {
   "cell_type": "markdown",
   "id": "a87e8607",
   "metadata": {},
   "source": [
    "Mis deportes favoritos son:"
   ]
  },
  {
   "cell_type": "markdown",
   "id": "9eacc85a",
   "metadata": {},
   "source": [
    "1. Fútbol\n",
    "\n",
    "2. Americano \n",
    "\n",
    "3. Formula 1\n",
    "\n",
    "4. Padel\n",
    "\n",
    "5. Basketball\n",
    "\n",
    "6. Tenis"
   ]
  },
  {
   "cell_type": "markdown",
   "id": "99092bff",
   "metadata": {},
   "source": [
    "$$ E=MC^2 $$"
   ]
  },
  {
   "cell_type": "markdown",
   "id": "384d4b72",
   "metadata": {},
   "source": [
    "*No he olvidado mi tema, se encuentra a continuación*"
   ]
  },
  {
   "cell_type": "markdown",
   "id": "b08971d0",
   "metadata": {},
   "source": [
    "## 2.- Tema: Tipos de trenes"
   ]
  },
  {
   "cell_type": "markdown",
   "id": "6cf8b7fd",
   "metadata": {},
   "source": [
    "A lo largo de la histroria los trenes han evolucionado y esto ha derivado en que existan diferentes tipos de trenes. Para comenzar iniciemos definiendo un tren. \"Un tren es un medio de transporte que se caracteriza por estar formado por una combinación variable de vagones, una locomotora que los dirige y por ir sobre rieles de distinto tipo. \" (Bembibre, 2010)"
   ]
  },
  {
   "attachments": {},
   "cell_type": "markdown",
   "id": "f3905853",
   "metadata": {},
   "source": [
    "![](https://i.pinimg.com/originals/22/be/96/22be9646a4adfd738791af3d9dcf09eb.jpg)"
   ]
  },
  {
   "cell_type": "markdown",
   "id": "5f118837",
   "metadata": {},
   "source": [
    "Los tipos de trenes son:\n",
    "\n",
    "-Maglev\n",
    "\n",
    "-Tren de Alta Velocidad\n",
    "\n",
    "-Tren de Carga\n",
    "\n",
    "-Tren de Pasajeros\n",
    "\n",
    "-Tranvia\n",
    "\n",
    "-Tren Eléctrico \n",
    "\n",
    "(Bembibre, 2010)"
   ]
  },
  {
   "cell_type": "markdown",
   "id": "31ac3a8a",
   "metadata": {},
   "source": [
    "### Referencias Bibliogáficas"
   ]
  },
  {
   "cell_type": "markdown",
   "id": "eccbf92b",
   "metadata": {},
   "source": [
    "Bembibre, C. (mayo, 2010). Definición de Tren. Definición ABC. Desde https://www.definicionabc.com/tecnologia/tren.php"
   ]
  }
 ],
 "metadata": {
  "kernelspec": {
   "display_name": "Python 3 (ipykernel)",
   "language": "python",
   "name": "python3"
  },
  "language_info": {
   "codemirror_mode": {
    "name": "ipython",
    "version": 3
   },
   "file_extension": ".py",
   "mimetype": "text/x-python",
   "name": "python",
   "nbconvert_exporter": "python",
   "pygments_lexer": "ipython3",
   "version": "3.9.12"
  }
 },
 "nbformat": 4,
 "nbformat_minor": 5
}
